{
 "cells": [
  {
   "cell_type": "markdown",
   "metadata": {},
   "source": [
    "# ch6 使用一等函数实现设计模式"
   ]
  },
  {
   "cell_type": "markdown",
   "metadata": {},
   "source": [
    "## 6.1 案例分析：重构“策略”模式"
   ]
  },
  {
   "cell_type": "markdown",
   "metadata": {},
   "source": [
    "### 6.1.1 经典的“策略”模式"
   ]
  },
  {
   "cell_type": "markdown",
   "metadata": {},
   "source": [
    "策略定义：定义一系列算法，把他们一一封装起来并且使他们可以相互替换。本模式使得算法可以独立于使用它的客户变化   \n",
    "某一网店的折扣规则：  \n",
    "- 有1000或以上积分的客户，每个订单享受5%折扣；\n",
    "- 同一订单中，单个商品的数量达到20个或以上，享受10%折扣；\n",
    "- 订单中的不同商品达到10个或以上，享受7%折扣；   \n",
    "简单起见，假定一个订单一次只能享受一个折扣。   \n",
    "\n",
    "上下文：   \n",
    "- 把一些计算委托给实现不同算法的可互换组件，它提供服务。这个示例中，上下文是order，他会根据不同的算法计算促销折扣。\n",
    "\n",
    "策略： \n",
    "- 实现不同算法的组件共同的接口。在这个示例中，名为Promotion的抽象类扮演这个角色。  \n",
    "\n",
    "具体策略：  \n",
    "- “策略”的具体子类。fidelipyPromo、BulkPromo和LargeOrderPromo这是这里实现的三个具体策略。"
   ]
  },
  {
   "cell_type": "markdown",
   "metadata": {},
   "source": [
    "test 6-1 实现order类，支持插入式折扣策略"
   ]
  },
  {
   "cell_type": "code",
   "execution_count": 41,
   "metadata": {},
   "outputs": [],
   "source": [
    "from abc import ABC,abstractmethod\n",
    "from collections import namedtuple\n",
    "\n",
    "Customer = namedtuple('Customer','name fidelity') #（姓名，积分）\n",
    "\n",
    "class LineItem:\n",
    "    \n",
    "    def __init__(self,product,quantity,price):\n",
    "        self.product = product\n",
    "        self.quantity = quantity\n",
    "        self.price = price\n",
    "        \n",
    "    def total(self):\n",
    "        return self.price * self.quantity\n",
    "    \n",
    "class Order: #上下文\n",
    "    \n",
    "    def __inif__(self,customer,cart,promotion=None):\n",
    "        self.customer = customer\n",
    "        self.cart = list(cart)\n",
    "        self.promotion = promotion\n",
    "        \n",
    "    def total(self):\n",
    "        if not hasattr(self,'__total'): #判断一个对象里面是否有name属性或者name方法，返回BOOL值，有name特性返回True， 否则返回False。\n",
    "            self.__total = sum(item.total() for item in self.cart)\n",
    "        return self.__total\n",
    "    def due(self):\n",
    "        if self.promotion is None:\n",
    "            discount = 0\n",
    "        else:\n",
    "            discount = self.promotion.discount(self)\n",
    "        return self.total() - discount\n",
    "    def __repr__(self):\n",
    "        fmt = '<Order total: {:.2f} due :{:.2f}>'\n",
    "        return fmt.format(self.total(),self.due())\n",
    "    \n",
    "#class Promotion(ABC): #策略：抽象基类\n",
    "    \n",
    "#    @abstractmethod\n",
    "#    def discount(self,order):\n",
    "        \"\"\"返回折扣金额\"\"\"\n",
    "        \n",
    "class FidelityPromo(Promotion): #第一个具体策略\n",
    "    \"\"\"为积分为1000或以上的顾客提供5%的折扣\"\"\"\n",
    "    def discount(self,order):\n",
    "        return order.total() * .05 if order.customer.fidelity >= 1000 else 0\n",
    "    \n",
    "class BulkItemPromo(Promotion): #第二个具体策略\n",
    "    \"\"\"单个商品为20个或以上时提供10%的折扣\"\"\"\n",
    "    def discount(self,order):\n",
    "        discount = 0\n",
    "        for item in order.cart:\n",
    "            if item.quantity >= 20:\n",
    "                discount += item.total * .1\n",
    "        return discount\n",
    "\n",
    "class LargeOrderPromo(Promotion): #第三个具体策略\n",
    "    \"\"\"订单中的不同商品达到10个或以上时提供7%折扣\"\"\"\n",
    "    def discount(self,order):\n",
    "        distinct_items = {item.product for item in order.cart}\n",
    "        if len(distinct_items) >= 10:\n",
    "            return order.total() * .07\n",
    "        return 0"
   ]
  },
  {
   "cell_type": "code",
   "execution_count": 42,
   "metadata": {},
   "outputs": [],
   "source": [
    "#两个顾客：姓名和积分\n",
    "joe = Customer('John Doe',0)\n",
    "ann = Customer('Ann Smith',1100)"
   ]
  },
  {
   "cell_type": "code",
   "execution_count": 43,
   "metadata": {},
   "outputs": [],
   "source": [
    "#三个购物车：商品名，数量和价格\n",
    "cart = [LineItem('banana',4,.5),\n",
    "       LineItem('apple',10,1.5),\n",
    "       LineItem('watermellon',5,5.0)]"
   ]
  },
  {
   "cell_type": "code",
   "execution_count": 44,
   "metadata": {},
   "outputs": [
    {
     "ename": "TypeError",
     "evalue": "object() takes no parameters",
     "output_type": "error",
     "traceback": [
      "\u001b[0;31m---------------------------------------------------------------------------\u001b[0m",
      "\u001b[0;31mTypeError\u001b[0m                                 Traceback (most recent call last)",
      "\u001b[0;32m<ipython-input-44-195966a73b89>\u001b[0m in \u001b[0;36m<module>\u001b[0;34m()\u001b[0m\n\u001b[1;32m      1\u001b[0m \u001b[0;31m#fidelityPromo没给joe提供折扣\u001b[0m\u001b[0;34m\u001b[0m\u001b[0;34m\u001b[0m\u001b[0m\n\u001b[0;32m----> 2\u001b[0;31m \u001b[0mOrder\u001b[0m\u001b[0;34m(\u001b[0m\u001b[0mjoe\u001b[0m\u001b[0;34m,\u001b[0m\u001b[0mcart\u001b[0m\u001b[0;34m,\u001b[0m\u001b[0mFidelityPromo\u001b[0m\u001b[0;34m(\u001b[0m\u001b[0;34m)\u001b[0m\u001b[0;34m)\u001b[0m\u001b[0;34m\u001b[0m\u001b[0m\n\u001b[0m\u001b[1;32m      3\u001b[0m \u001b[0;31m#ann得到了5%折扣，因为他的积分超过1000.\u001b[0m\u001b[0;34m\u001b[0m\u001b[0;34m\u001b[0m\u001b[0m\n\u001b[1;32m      4\u001b[0m \u001b[0mOrder\u001b[0m\u001b[0;34m(\u001b[0m\u001b[0mann\u001b[0m\u001b[0;34m,\u001b[0m\u001b[0mcart\u001b[0m\u001b[0;34m,\u001b[0m\u001b[0mFidelityPromo\u001b[0m\u001b[0;34m(\u001b[0m\u001b[0;34m)\u001b[0m\u001b[0;34m)\u001b[0m\u001b[0;34m\u001b[0m\u001b[0m\n",
      "\u001b[0;31mTypeError\u001b[0m: object() takes no parameters"
     ]
    }
   ],
   "source": [
    "#fidelityPromo没给joe提供折扣\n",
    "Order(joe,cart,FidelityPromo())\n",
    "#ann得到了5%折扣，因为他的积分超过1000.\n",
    "Order(ann,cart,FidelityPromo())"
   ]
  },
  {
   "cell_type": "code",
   "execution_count": null,
   "metadata": {},
   "outputs": [],
   "source": []
  }
 ],
 "metadata": {
  "kernelspec": {
   "display_name": "Python 3",
   "language": "python",
   "name": "python3"
  },
  "language_info": {
   "codemirror_mode": {
    "name": "ipython",
    "version": 3
   },
   "file_extension": ".py",
   "mimetype": "text/x-python",
   "name": "python",
   "nbconvert_exporter": "python",
   "pygments_lexer": "ipython3",
   "version": "3.6.3"
  }
 },
 "nbformat": 4,
 "nbformat_minor": 2
}
